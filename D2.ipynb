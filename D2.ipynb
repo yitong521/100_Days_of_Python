{
 "cells": [
  {
   "cell_type": "code",
   "execution_count": 7,
   "id": "54c51d64",
   "metadata": {},
   "outputs": [],
   "source": [
    "import pandas as pd"
   ]
  },
  {
   "cell_type": "code",
   "execution_count": 10,
   "id": "d26a7ee5",
   "metadata": {},
   "outputs": [],
   "source": [
    "file_path = 'D2P1.txt'\n",
    "delimiter = ':'\n",
    "df = pd.read_csv(file_path,header=None,  delimiter=delimiter)\n",
    "#df.columns = [ 'string']"
   ]
  },
  {
   "cell_type": "code",
   "execution_count": 36,
   "id": "f19e3df3",
   "metadata": {},
   "outputs": [],
   "source": [
    "def check_colour(colour, num):\n",
    "    toSave = True\n",
    "    num = int(num)\n",
    "    if colour == \"green\":\n",
    "        if num >13:\n",
    "            toSave = False\n",
    "        else: toSave = True\n",
    "    elif colour == \"red\":\n",
    "        if num >12:\n",
    "            toSave = False\n",
    "        else: toSave = True\n",
    "    elif colour == \"blue\":\n",
    "        if num > 14:\n",
    "            toSave = False\n",
    "        else: toSave = True\n",
    "    else: toSave = True\n",
    "    return toSave\n",
    "        "
   ]
  },
  {
   "cell_type": "code",
   "execution_count": 60,
   "id": "e7b45917",
   "metadata": {},
   "outputs": [
    {
     "name": "stdout",
     "output_type": "stream",
     "text": [
      "2369\n"
     ]
    }
   ],
   "source": [
    "IDsum = 0 \n",
    "for index,row in df.iterrows():\n",
    "    toSave = True\n",
    "    toSaveList = []\n",
    "    game_num = row[0].split(\" \",1)[1]\n",
    "    for i in row[1].split(\";\"):\n",
    "        for j in i.split(\",\"):\n",
    "            num = j.split()[0]\n",
    "            colour = j.split()[1]\n",
    "            toSave = check_colour(colour, num)\n",
    "            toSaveList.append(toSave)\n",
    "    if not any(element == False for element in toSaveList):\n",
    "        IDsum = IDsum+ int(game_num)\n",
    "print(IDsum)\n"
   ]
  },
  {
   "cell_type": "code",
   "execution_count": 73,
   "id": "8763d4bc",
   "metadata": {},
   "outputs": [],
   "source": [
    "# NEXT PART"
   ]
  },
  {
   "cell_type": "code",
   "execution_count": 75,
   "id": "fb4be672",
   "metadata": {},
   "outputs": [
    {
     "name": "stdout",
     "output_type": "stream",
     "text": [
      "66363\n"
     ]
    }
   ],
   "source": [
    "Msum = 0\n",
    "\n",
    "def compare_colour(colour, num, max_red, max_green, max_blue):\n",
    "    num = int(num)\n",
    "    if colour == \"green\":\n",
    "        if num > max_green:\n",
    "            max_green = num\n",
    "    elif colour == \"red\":\n",
    "        if num > max_red:\n",
    "            max_red = num\n",
    "    elif colour == \"blue\":\n",
    "        if num > max_blue:\n",
    "            max_blue = num\n",
    "    else:\n",
    "        print(\"wrong input\")\n",
    "    return max_red, max_green, max_blue\n",
    "\n",
    "for index, row in df.iterrows():\n",
    "    max_red = 0\n",
    "    max_green = 0\n",
    "    max_blue = 0\n",
    "    \n",
    "    for i in row[1].split(\";\"):   \n",
    "        for j in i.split(\",\"):\n",
    "            num = j.split()[0]\n",
    "            colour = j.split()[1]\n",
    "            max_red, max_green, max_blue = compare_colour(colour, num, max_red, max_green, max_blue)\n",
    "    Msum = Msum+max_red*max_green*max_blue\n",
    "print(Msum)"
   ]
  },
  {
   "cell_type": "code",
   "execution_count": null,
   "id": "ed913927",
   "metadata": {},
   "outputs": [],
   "source": []
  },
  {
   "cell_type": "code",
   "execution_count": null,
   "id": "85c0d7d4",
   "metadata": {},
   "outputs": [],
   "source": []
  },
  {
   "cell_type": "code",
   "execution_count": 77,
   "id": "f2ed4764",
   "metadata": {},
   "outputs": [
    {
     "data": {
      "text/plain": [
       "\"\\nbugs version\\nThe issue here is that you are trying to access the variables max_red, max_green, and max_blue within the compare_colour function,\\nbut these variables are defined within the scope of the outer loop, and they are not global variables. Therefore, when you try to access them inside the function, \\nPython considers them as local variables, and you get an UnboundLocalError because you are trying to access them before assigning any value.\\n\\nTo fix this issue, you can pass these variables as parameters to the compare_colour function and also return them from the function.\\nHere's an updated version of your code:\\n\\n\""
      ]
     },
     "execution_count": 77,
     "metadata": {},
     "output_type": "execute_result"
    }
   ],
   "source": [
    "\"\"\"\n",
    "bugs version\n",
    "The issue here is that you are trying to access the variables max_red, max_green, and max_blue within the compare_colour function,\n",
    "but these variables are defined within the scope of the outer loop, and they are not global variables. Therefore, when you try to access them inside the function, \n",
    "Python considers them as local variables, and you get an UnboundLocalError because you are trying to access them before assigning any value.\n",
    "\n",
    "To fix this issue, you can pass these variables as parameters to the compare_colour function and also return them from the function.\n",
    "Here's an updated version of your code:\n",
    "\n",
    "\"\"\""
   ]
  },
  {
   "cell_type": "code",
   "execution_count": 63,
   "id": "06b7ea4e",
   "metadata": {},
   "outputs": [
    {
     "name": "stdout",
     "output_type": "stream",
     "text": [
      " 7 blue, 6 green, 3 red\n"
     ]
    },
    {
     "ename": "UnboundLocalError",
     "evalue": "cannot access local variable 'max_red' where it is not associated with a value",
     "output_type": "error",
     "traceback": [
      "\u001b[1;31m---------------------------------------------------------------------------\u001b[0m",
      "\u001b[1;31mUnboundLocalError\u001b[0m                         Traceback (most recent call last)",
      "Cell \u001b[1;32mIn[63], line 16\u001b[0m\n\u001b[0;32m     14\u001b[0m num \u001b[38;5;241m=\u001b[39m j\u001b[38;5;241m.\u001b[39msplit()[\u001b[38;5;241m0\u001b[39m]\n\u001b[0;32m     15\u001b[0m colour \u001b[38;5;241m=\u001b[39m j\u001b[38;5;241m.\u001b[39msplit()[\u001b[38;5;241m1\u001b[39m]\n\u001b[1;32m---> 16\u001b[0m maxNum \u001b[38;5;241m=\u001b[39m compare_colour(colour, num)\n\u001b[0;32m     17\u001b[0m \u001b[38;5;28;01mif\u001b[39;00m colour \u001b[38;5;241m==\u001b[39m \u001b[38;5;124m\"\u001b[39m\u001b[38;5;124mgreen\u001b[39m\u001b[38;5;124m\"\u001b[39m:\n\u001b[0;32m     18\u001b[0m     max_green\u001b[38;5;241m=\u001b[39m maxNum\n",
      "Cell \u001b[1;32mIn[61], line 10\u001b[0m, in \u001b[0;36mcompare_colour\u001b[1;34m(colour, num)\u001b[0m\n\u001b[0;32m      8\u001b[0m         max_red \u001b[38;5;241m=\u001b[39m num\n\u001b[0;32m      9\u001b[0m \u001b[38;5;28;01melif\u001b[39;00m colour \u001b[38;5;241m==\u001b[39m \u001b[38;5;124m\"\u001b[39m\u001b[38;5;124mblue\u001b[39m\u001b[38;5;124m\"\u001b[39m:\n\u001b[1;32m---> 10\u001b[0m     \u001b[38;5;28;01mif\u001b[39;00m num \u001b[38;5;241m>\u001b[39m max_red:\n\u001b[0;32m     11\u001b[0m         max_red \u001b[38;5;241m=\u001b[39m num\n\u001b[0;32m     12\u001b[0m \u001b[38;5;28;01melse\u001b[39;00m: \u001b[38;5;28mprint\u001b[39m(\u001b[38;5;124m\"\u001b[39m\u001b[38;5;124mwrong input\u001b[39m\u001b[38;5;124m\"\u001b[39m)\n",
      "\u001b[1;31mUnboundLocalError\u001b[0m: cannot access local variable 'max_red' where it is not associated with a value"
     ]
    }
   ],
   "source": [
    "IDsum = 0 \n",
    "for index,row in df.iterrows():\n",
    "    toSave = True\n",
    "    toSaveList = []\n",
    "   # max_red = 0\n",
    "  #  max_green = 0\n",
    "  #  max_blue = 0\n",
    "    for i in row[1].split(\";\"):\n",
    "        max_red = 0\n",
    "        max_green = 0\n",
    "        max_blue = 0\n",
    "        print(i)\n",
    "        for j in i.split(\",\"):\n",
    "            num = j.split()[0]\n",
    "            colour = j.split()[1]\n",
    "            maxNum = compare_colour(colour, num)\n",
    "            if colour == \"green\":\n",
    "                max_green= maxNum\n",
    "                print(\"max_green\")\n",
    "                print(max_green)\n",
    "            elif colour == \"red\":\n",
    "                max_red = maxNum\n",
    "                print(\"max_red\")\n",
    "                print(max_red)\n",
    "            else: \n",
    "                max_blue = maxNum\n",
    "                print(\"max_blue\")\n",
    "                print(max_blue)\n",
    "                \n",
    "\n",
    "    #if not any(element == False for element in toSaveList):\n",
    "        #IDsum = IDsum+ int(game_num)\n"
   ]
  },
  {
   "cell_type": "code",
   "execution_count": 61,
   "id": "ee74a826",
   "metadata": {},
   "outputs": [],
   "source": [
    "def compare_colour(colour, num):\n",
    "    num = int(num)\n",
    "    if colour == \"green\":\n",
    "        if num >max_green:\n",
    "            max_green= num\n",
    "    elif colour == \"red\":\n",
    "        if num >max_red:\n",
    "            max_red = num\n",
    "    elif colour == \"blue\":\n",
    "        if num > max_red:\n",
    "            max_red = num\n",
    "    else: print(\"wrong input\")\n",
    "    return num"
   ]
  },
  {
   "cell_type": "code",
   "execution_count": null,
   "id": "dd5ab8a6",
   "metadata": {},
   "outputs": [],
   "source": []
  }
 ],
 "metadata": {
  "kernelspec": {
   "display_name": "Python 3 (ipykernel)",
   "language": "python",
   "name": "python3"
  },
  "language_info": {
   "codemirror_mode": {
    "name": "ipython",
    "version": 3
   },
   "file_extension": ".py",
   "mimetype": "text/x-python",
   "name": "python",
   "nbconvert_exporter": "python",
   "pygments_lexer": "ipython3",
   "version": "3.11.3"
  }
 },
 "nbformat": 4,
 "nbformat_minor": 5
}
