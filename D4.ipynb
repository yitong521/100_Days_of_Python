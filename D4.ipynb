{
 "cells": [
  {
   "cell_type": "code",
   "execution_count": 1,
   "metadata": {},
   "outputs": [],
   "source": [
    "import pandas as pd"
   ]
  },
  {
   "cell_type": "code",
   "execution_count": 2,
   "metadata": {},
   "outputs": [],
   "source": [
    "file_path = 'inputD4P1.txt'\n",
    "df = pd.read_csv(file_path,header=None )"
   ]
  },
  {
   "cell_type": "code",
   "execution_count": 30,
   "metadata": {},
   "outputs": [
    {
     "name": "stdout",
     "output_type": "stream",
     "text": [
      "19135\n"
     ]
    }
   ],
   "source": [
    "total = 0 \n",
    "list_total = []\n",
    "for index, row in df.iterrows():\n",
    "    win_num = row[0].split(\":\")[1].split(\" | \")[0].split(\" \")\n",
    "    win_num  = list(filter(lambda x: x != '', win_num ))\n",
    "    my_num = row[0].split(\":\")[1].split(\" | \")[1].split(\" \")\n",
    "    my_num  = list(filter(lambda x: x != '', my_num ))\n",
    "    win_one_time_count = 0 \n",
    "    for i in my_num:\n",
    "        for j in win_num:\n",
    "            if i == j:\n",
    "                win_one_time_count = win_one_time_count +1\n",
    "    score_count =  win_one_time_count if win_one_time_count == 0 else pow(2,win_one_time_count-1)\n",
    "    list_total.append(score_count)\n",
    "    total =score_count +total\n",
    "\n",
    "print(total)      "
   ]
  },
  {
   "cell_type": "code",
   "execution_count": 198,
   "metadata": {},
   "outputs": [],
   "source": [
    "\n",
    "win_total = []\n",
    "for index, row in df.iterrows():\n",
    "    win_num = row[0].split(\":\")[1].split(\" | \")[0].split(\" \")\n",
    "    win_num  = list(filter(lambda x: x != '', win_num ))\n",
    "    my_num = row[0].split(\":\")[1].split(\" | \")[1].split(\" \")\n",
    "    my_num  = list(filter(lambda x: x != '', my_num ))\n",
    "    win_one_time_count = 0 \n",
    "    for i in my_num:\n",
    "        for j in win_num:\n",
    "            if i == j:\n",
    "                win_one_time_count = win_one_time_count +1\n",
    "    win_total.append(win_one_time_count)\n"
   ]
  },
  {
   "cell_type": "code",
   "execution_count": 205,
   "metadata": {},
   "outputs": [
    {
     "name": "stdout",
     "output_type": "stream",
     "text": [
      "5704953\n"
     ]
    }
   ],
   "source": [
    "generaldf  = pd.DataFrame({\"Winum\":win_total, \"Index\": range(1, len(win_total) + 1)})\n",
    "column_names = [str(i) for i in range(1, 188)]\n",
    "new_columns = pd.DataFrame(0, index=generaldf.index, columns=column_names)\n",
    "generaldf = pd.concat([generaldf, new_columns], axis=1)\n",
    "\n",
    "for key, row in generaldf.iterrows():\n",
    "    subset_df = generaldf.loc[key:key, '1':'187']\n",
    "    num = subset_df.sum().sum()+1\n",
    "    for i in range(key, key + row[0]):\n",
    "        generaldf[f'{key+1}'][i+1] = num\n",
    "\n",
    "subset_df2 = generaldf.loc[0:187, '1':'187']\n",
    "num = subset_df2.sum().sum()\n",
    "print(num+188)"
   ]
  }
 ],
 "metadata": {
  "kernelspec": {
   "display_name": "base",
   "language": "python",
   "name": "python3"
  },
  "language_info": {
   "codemirror_mode": {
    "name": "ipython",
    "version": 3
   },
   "file_extension": ".py",
   "mimetype": "text/x-python",
   "name": "python",
   "nbconvert_exporter": "python",
   "pygments_lexer": "ipython3",
   "version": "3.11.3"
  }
 },
 "nbformat": 4,
 "nbformat_minor": 2
}
